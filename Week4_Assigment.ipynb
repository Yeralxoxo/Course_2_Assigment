{
 "cells": [
  {
   "cell_type": "markdown",
   "id": "011cf8fc-5202-426c-9a23-affd4d80df6c",
   "metadata": {},
   "source": [
    "# My Jupyter Notebook on IBM Watson Studio"
   ]
  },
  {
   "cell_type": "markdown",
   "id": "d412045b-a358-43e9-87fd-62bdd553279e",
   "metadata": {},
   "source": [
    "**Yeraldin E** <Br>\n",
    "Data Scientist"
   ]
  },
  {
   "cell_type": "markdown",
   "id": "c54ced4f-5d15-4fe7-9ae7-d8ec4a8c8dbd",
   "metadata": {},
   "source": [
    "_I am interested in data science because I enjoy analyzing data to uncover new insights that help businesses make data-driven decisions_"
   ]
  },
  {
   "cell_type": "markdown",
   "id": "a9dd2594-248e-4f08-a3fe-cd506eab4f5a",
   "metadata": {},
   "source": [
    "### My code below asks the user to input his or her name, and then it prints \"Nice to meet you,\" + [the User's name] ###"
   ]
  },
  {
   "cell_type": "code",
   "execution_count": 10,
   "id": "687bb3ef-121b-460a-8bc4-f2f08202117c",
   "metadata": {},
   "outputs": [
    {
     "name": "stdin",
     "output_type": "stream",
     "text": [
      "What is your name: Yeraldin\n"
     ]
    },
    {
     "name": "stdout",
     "output_type": "stream",
     "text": [
      "Nice to meet you,Yeraldin\n"
     ]
    }
   ],
   "source": [
    "a= input(\"What is your name:\")\n",
    "print(\"Nice to meet you,\" + a)"
   ]
  },
  {
   "cell_type": "markdown",
   "id": "c0b8af25-b29b-46ed-bdc9-24d88ba7a473",
   "metadata": {},
   "source": [
    ">Hi\n",
    "---\n",
    "<ol>\n",
    "<li>Hi</li>\n",
    "<li>Hello</li>\n",
    "    \n",
    "<ul>Hola</ul>"
   ]
  },
  {
   "cell_type": "code",
   "execution_count": null,
   "id": "46b7b82c-7cfd-4f21-bb80-a11b13945647",
   "metadata": {},
   "outputs": [],
   "source": []
  }
 ],
 "metadata": {
  "kernelspec": {
   "display_name": "Python",
   "language": "python",
   "name": "conda-env-python-py"
  },
  "language_info": {
   "codemirror_mode": {
    "name": "ipython",
    "version": 3
   },
   "file_extension": ".py",
   "mimetype": "text/x-python",
   "name": "python",
   "nbconvert_exporter": "python",
   "pygments_lexer": "ipython3",
   "version": "3.7.12"
  }
 },
 "nbformat": 4,
 "nbformat_minor": 5
}
